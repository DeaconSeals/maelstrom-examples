{
 "cells": [
  {
   "cell_type": "code",
   "execution_count": 2,
   "id": "113e3894",
   "metadata": {},
   "outputs": [
    {
     "name": "stdout",
     "output_type": "stream",
     "text": [
      "The autoreload extension is already loaded. To reload it, use:\n",
      "  %reload_ext autoreload\n"
     ]
    }
   ],
   "source": [
    "from canonicalPopulation import CanonicalGeneticProgrammingPopulation\n",
    "from primitives import *\n",
    "from competition import *\n",
    "from snake_eyes.snakeeyes import readConfig\n",
    "from unorderedWrapper import unorderedWrapper\n",
    "\n",
    "# Some more magic so that the notebook will reload external python modules;\n",
    "# see http://stackoverflow.com/questions/1907993/autoreload-of-modules-in-ipython\n",
    "%load_ext autoreload\n",
    "%autoreload 2"
   ]
  },
  {
   "cell_type": "code",
   "execution_count": 4,
   "id": "356ad6f0",
   "metadata": {},
   "outputs": [
    {
     "name": "stdout",
     "output_type": "stream",
     "text": [
      "DEFAULT\n",
      "{}\n",
      "GENERAL\n",
      "{'render': False, 'default_test': False, 'analysis': False, 'logpath': 'logs/debug', 'experimentName': 'traditionalTest', 'runs': 2, 'evaluations': 50000, 'numChampions': 5, 'numHeroes': 15, 'parallelizeRuns': True, 'popSize': 200, 'numChildren': 100, 'parentSelection': 'FPS', 'kParent': 10, 'mutation': 0.05, 'survivalStrategy': 'plus', 'survivalSelection': 'truncation', 'depthLimit': 5, 'hardLimit': 20, 'depthMin': 1, 'outputType': 'Angle'}\n",
      "ISLAND\n",
      "{'populations': {'predators': 'predators', 'prey': 'prey'}, 'evaluationFunction': <function sampleEvaluations at 0x104acad40>, 'evaluationkwargs': {'samples': 10, 'world_kwargs': {'predator_move_speed': 0.06, 'prey_move_speed': 0.1, 'agent_radius': 0.1, 'time_limit': 200}, 'hallOfFameSize': 3}, 'evaluations': 50000, 'championsPerGeneration': 5}\n",
      "predators\n",
      "{'roles': ('General', 'Predator'), 'outputType': 'Angle', 'depthLimit': 5, 'hardLimit': 20, 'depthMin': 1, 'popSize': 200, 'numChildren': 100, 'evaluations': 50000, 'parentSelection': 'FPS', 'kParent': 10, 'mutation': 0.05, 'survivalStrategy': 'plus', 'survivalSelection': 'truncation'}\n",
      "prey\n",
      "{'roles': ('General', 'Prey'), 'outputType': 'Angle', 'depthLimit': 5, 'hardLimit': 20, 'depthMin': 1, 'popSize': 200, 'numChildren': 100, 'evaluations': 50000, 'parentSelection': 'FPS', 'kParent': 10, 'mutation': 0.05, 'survivalStrategy': 'plus', 'survivalSelection': 'truncation'}\n",
      "{'avgPred': 63.8875, 'bestPred': 186, 'avgPrey': 136.1125, 'bestPrey': 200, 'evals': 2000}\n",
      "{'avgPred': 66.12349999999999, 'bestPred': 187.5, 'avgPrey': 133.8765, 'bestPrey': 200, 'evals': 4000}\n",
      "{'avgPred': 68.7875, 'bestPred': 187.7, 'avgPrey': 131.2125, 'bestPrey': 200, 'evals': 6000}\n",
      "{'avgPred': 88.9805, 'bestPred': 187, 'avgPrey': 111.0195, 'bestPrey': 200, 'evals': 8000}\n",
      "{'avgPred': 99.6705, 'bestPred': 188.4, 'avgPrey': 100.3295, 'bestPrey': 200, 'evals': 10000}\n",
      "{'avgPred': 118.716, 'bestPred': 188.5, 'avgPrey': 81.284, 'bestPrey': 182.3, 'evals': 12000}\n",
      "{'avgPred': 121.43, 'bestPred': 189.1, 'avgPrey': 78.57000000000001, 'bestPrey': 183.1, 'evals': 14000}\n",
      "{'avgPred': 125.281, 'bestPred': 185, 'avgPrey': 74.719, 'bestPrey': 182.1, 'evals': 16000}\n",
      "{'avgPred': 134.01, 'bestPred': 186, 'avgPrey': 65.99, 'bestPrey': 200, 'evals': 18000}\n",
      "{'avgPred': 137.967, 'bestPred': 186.4, 'avgPrey': 62.033, 'bestPrey': 192.6, 'evals': 20000}\n",
      "{'avgPred': 131.697, 'bestPred': 186, 'avgPrey': 68.303, 'bestPrey': 186.4, 'evals': 22000}\n",
      "{'avgPred': 124.241, 'bestPred': 184.1, 'avgPrey': 75.759, 'bestPrey': 200, 'evals': 24000}\n",
      "{'avgPred': 114.833, 'bestPred': 184.6, 'avgPrey': 85.167, 'bestPrey': 200, 'evals': 26000}\n",
      "{'avgPred': 118.1845, 'bestPred': 184.4, 'avgPrey': 81.8155, 'bestPrey': 200, 'evals': 28000}\n",
      "{'avgPred': 103.912, 'bestPred': 183.2, 'avgPrey': 96.088, 'bestPrey': 200, 'evals': 30000}\n",
      "{'avgPred': 108.645, 'bestPred': 183.7, 'avgPrey': 91.355, 'bestPrey': 200, 'evals': 32000}\n",
      "{'avgPred': 102.1055, 'bestPred': 182.8, 'avgPrey': 97.8945, 'bestPrey': 200, 'evals': 34000}\n",
      "{'avgPred': 106.3125, 'bestPred': 182.6, 'avgPrey': 93.6875, 'bestPrey': 200, 'evals': 36000}\n",
      "{'avgPred': 104.182, 'bestPred': 184, 'avgPrey': 95.818, 'bestPrey': 199.2, 'evals': 38000}\n",
      "{'avgPred': 108.2825, 'bestPred': 181, 'avgPrey': 91.7175, 'bestPrey': 200, 'evals': 40000}\n",
      "{'avgPred': 108.769, 'bestPred': 182.3, 'avgPrey': 91.231, 'bestPrey': 200, 'evals': 42000}\n",
      "{'avgPred': 107.9085, 'bestPred': 179.3, 'avgPrey': 92.0915, 'bestPrey': 184.3, 'evals': 44000}\n",
      "{'avgPred': 107.5715, 'bestPred': 179.5, 'avgPrey': 92.4285, 'bestPrey': 200, 'evals': 46000}\n",
      "{'avgPred': 108.4655, 'bestPred': 179.6, 'avgPrey': 91.5345, 'bestPrey': 200, 'evals': 48000}\n",
      "{'avgPred': 109.8235, 'bestPred': 181.4, 'avgPrey': 90.1765, 'bestPrey': 200, 'evals': 50000}\n"
     ]
    }
   ],
   "source": [
    "config = readConfig('./configs/TestTraditional.cfg', globals(), locals())\n",
    "for key in config:\n",
    "    print(key)\n",
    "    print(config[key])\n",
    "world_kwargs=config['ISLAND']['evaluationkwargs']['world_kwargs']\n",
    "predPop = CanonicalGeneticProgrammingPopulation(**config['predators'])\n",
    "predPop.rampedHalfAndHalf()\n",
    "preyPop = CanonicalGeneticProgrammingPopulation(**config['prey'])\n",
    "preyPop.rampedHalfAndHalf()\n",
    "evals = 0\n",
    "generation = 0\n",
    "while evals < config['GENERAL']['evaluations']:\n",
    "    log, round_evals = sampleEvaluations(predPop, preyPop, **config['ISLAND']['evaluationkwargs'])\n",
    "    evals += round_evals\n",
    "    predPop.generateChildren()\n",
    "    preyPop.generateChildren()\n",
    "    print(log)\n",
    "    generation += 1"
   ]
  },
  {
   "cell_type": "code",
   "execution_count": null,
   "id": "dc2781c8",
   "metadata": {},
   "outputs": [],
   "source": []
  }
 ],
 "metadata": {
  "kernelspec": {
   "display_name": "Python 3 (ipykernel)",
   "language": "python",
   "name": "python3"
  },
  "language_info": {
   "codemirror_mode": {
    "name": "ipython",
    "version": 3
   },
   "file_extension": ".py",
   "mimetype": "text/x-python",
   "name": "python",
   "nbconvert_exporter": "python",
   "pygments_lexer": "ipython3",
   "version": "3.10.4"
  }
 },
 "nbformat": 4,
 "nbformat_minor": 5
}
