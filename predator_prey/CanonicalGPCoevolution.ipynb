{
 "cells": [
  {
   "cell_type": "code",
   "execution_count": 1,
   "id": "113e3894",
   "metadata": {},
   "outputs": [],
   "source": [
    "from canonicalPopulation import CanonicalGeneticProgrammingPopulation\n",
    "from primitives import *\n",
    "from competition import *\n",
    "from snake_eyes import read_config\n",
    "from unorderedWrapper import unorderedWrapper\n",
    "\n",
    "# Some more magic so that the notebook will reload external python modules;\n",
    "# see http://stackoverflow.com/questions/1907993/autoreload-of-modules-in-ipython\n",
    "%load_ext autoreload\n",
    "%autoreload 2"
   ]
  },
  {
   "cell_type": "code",
   "execution_count": 3,
   "id": "356ad6f0",
   "metadata": {},
   "outputs": [
    {
     "name": "stdout",
     "output_type": "stream",
     "text": [
      "DEFAULT\n",
      "{}\n",
      "GENERAL\n",
      "{'render': False, 'default_test': False, 'analysis': False, 'logpath': 'logs/debug', 'experimentName': 'traditionalTest', 'runs': 2, 'evaluations': 50000, 'numChampions': 5, 'numHeroes': 15, 'parallelizeRuns': True, 'popSize': 200, 'numChildren': 100, 'parentSelection': 'FPS', 'kParent': 10, 'mutation': 0.05, 'survivalStrategy': 'plus', 'survivalSelection': 'truncation', 'depthLimit': 5, 'hardLimit': 20, 'depthMin': 1, 'outputType': 'Angle'}\n",
      "ISLAND\n",
      "{'populations': {'predators': 'predators', 'prey': 'prey'}, 'evaluationFunction': <function sampleEvaluations at 0x10a8d2f80>, 'evaluationkwargs': {'samples': 10, 'world_kwargs': {'predator_move_speed': 0.06, 'prey_move_speed': 0.1, 'agent_radius': 0.1, 'time_limit': 200}, 'hallOfFameSize': 3}, 'evaluations': 50000, 'championsPerGeneration': 5}\n",
      "predators\n",
      "{'roles': ('General', 'Predator'), 'outputType': 'Angle', 'depthLimit': 5, 'hardLimit': 20, 'depthMin': 1, 'popSize': 200, 'numChildren': 100, 'evaluations': 50000, 'parentSelection': 'FPS', 'kParent': 10, 'mutation': 0.05, 'survivalStrategy': 'plus', 'survivalSelection': 'truncation'}\n",
      "prey\n",
      "{'roles': ('General', 'Prey'), 'outputType': 'Angle', 'depthLimit': 5, 'hardLimit': 20, 'depthMin': 1, 'popSize': 200, 'numChildren': 100, 'evaluations': 50000, 'parentSelection': 'FPS', 'kParent': 10, 'mutation': 0.05, 'survivalStrategy': 'plus', 'survivalSelection': 'truncation'}\n"
     ]
    },
    {
     "ename": "AttributeError",
     "evalue": "'CanonicalGeneticProgrammingPopulation' object has no attribute 'ramped_half_and_half'",
     "output_type": "error",
     "traceback": [
      "\u001b[0;31m---------------------------------------------------------------------------\u001b[0m",
      "\u001b[0;31mAttributeError\u001b[0m                            Traceback (most recent call last)",
      "Cell \u001b[0;32mIn[3], line 7\u001b[0m\n\u001b[1;32m      5\u001b[0m world_kwargs\u001b[39m=\u001b[39mconfig[\u001b[39m'\u001b[39m\u001b[39mISLAND\u001b[39m\u001b[39m'\u001b[39m][\u001b[39m'\u001b[39m\u001b[39mevaluationkwargs\u001b[39m\u001b[39m'\u001b[39m][\u001b[39m'\u001b[39m\u001b[39mworld_kwargs\u001b[39m\u001b[39m'\u001b[39m]\n\u001b[1;32m      6\u001b[0m predPop \u001b[39m=\u001b[39m CanonicalGeneticProgrammingPopulation(\u001b[39m*\u001b[39m\u001b[39m*\u001b[39mconfig[\u001b[39m'\u001b[39m\u001b[39mpredators\u001b[39m\u001b[39m'\u001b[39m])\n\u001b[0;32m----> 7\u001b[0m predPop\u001b[39m.\u001b[39;49mramped_half_and_half()\n\u001b[1;32m      8\u001b[0m preyPop \u001b[39m=\u001b[39m CanonicalGeneticProgrammingPopulation(\u001b[39m*\u001b[39m\u001b[39m*\u001b[39mconfig[\u001b[39m'\u001b[39m\u001b[39mprey\u001b[39m\u001b[39m'\u001b[39m])\n\u001b[1;32m      9\u001b[0m preyPop\u001b[39m.\u001b[39mramped_half_and_half()\n",
      "\u001b[0;31mAttributeError\u001b[0m: 'CanonicalGeneticProgrammingPopulation' object has no attribute 'ramped_half_and_half'"
     ]
    }
   ],
   "source": [
    "config = read_config('./configs/TestTraditional.cfg', globals(), locals())\n",
    "for key in config:\n",
    "    print(key)\n",
    "    print(config[key])\n",
    "world_kwargs=config['ISLAND']['evaluationkwargs']['world_kwargs']\n",
    "predPop = CanonicalGeneticProgrammingPopulation(**config['predators'])\n",
    "predPop.ramped_half_and_half()\n",
    "preyPop = CanonicalGeneticProgrammingPopulation(**config['prey'])\n",
    "preyPop.ramped_half_and_half()\n",
    "evals = 0\n",
    "generation = 0\n",
    "while evals < config['GENERAL']['evaluations']:\n",
    "    log, round_evals = sampleEvaluations(predPop, preyPop, **config['ISLAND']['evaluationkwargs'])\n",
    "    evals += round_evals\n",
    "    predPop.generate_children()\n",
    "    preyPop.generate_children()\n",
    "    print(log)\n",
    "    generation += 1"
   ]
  },
  {
   "cell_type": "code",
   "execution_count": null,
   "id": "dc2781c8",
   "metadata": {},
   "outputs": [],
   "source": []
  }
 ],
 "metadata": {
  "kernelspec": {
   "display_name": "Python 3 (ipykernel)",
   "language": "python",
   "name": "python3"
  },
  "language_info": {
   "codemirror_mode": {
    "name": "ipython",
    "version": 3
   },
   "file_extension": ".py",
   "mimetype": "text/x-python",
   "name": "python",
   "nbconvert_exporter": "python",
   "pygments_lexer": "ipython3",
   "version": "3.10.4"
  }
 },
 "nbformat": 4,
 "nbformat_minor": 5
}
