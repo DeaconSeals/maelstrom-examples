{
 "cells": [
  {
   "cell_type": "code",
   "execution_count": null,
   "id": "47cd5c1e",
   "metadata": {},
   "outputs": [],
   "source": [
    "# !pip install maelstrom-evolution snake-eyes-parser"
   ]
  },
  {
   "cell_type": "code",
   "execution_count": null,
   "id": "f35295c1",
   "metadata": {},
   "outputs": [],
   "source": [
    "import jax\n",
    "import jax.numpy as jnp\n",
    "from jax import lax, jit, vmap"
   ]
  },
  {
   "cell_type": "code",
   "execution_count": null,
   "id": "32c80198",
   "metadata": {},
   "outputs": [],
   "source": [
    "from primitives import *"
   ]
  },
  {
   "cell_type": "code",
   "execution_count": null,
   "id": "2cd2c33f",
   "metadata": {},
   "outputs": [],
   "source": [
    "from predator_prey import *"
   ]
  },
  {
   "cell_type": "code",
   "execution_count": null,
   "id": "cf53f134",
   "metadata": {},
   "outputs": [],
   "source": [
    "from maelstrom import Maelstrom\n",
    "from snake_eyes import read_config"
   ]
  },
  {
   "cell_type": "code",
   "execution_count": null,
   "id": "4e803e72",
   "metadata": {},
   "outputs": [],
   "source": [
    "config = read_config('./configs/maelstrom.cfg', globals(), locals())"
   ]
  },
  {
   "cell_type": "code",
   "execution_count": null,
   "id": "3be9ac3e",
   "metadata": {},
   "outputs": [],
   "source": [
    "for key, value in config.items():\n",
    "    print(key)\n",
    "    print(value)"
   ]
  },
  {
   "cell_type": "code",
   "execution_count": null,
   "id": "a368155f",
   "metadata": {},
   "outputs": [],
   "source": [
    "for size in [10]:#, 200, 300]:\n",
    "    config['predators']['pop_size'] = size\n",
    "    config['predators']['num_children'] = size\n",
    "    config['prey']['pop_size'] = size\n",
    "    config['prey']['num_children'] = size\n",
    "    evolver = Maelstrom(**config['MAELSTROM'], **config)\n",
    "    evolver.run()"
   ]
  },
  {
   "cell_type": "code",
   "execution_count": null,
   "id": "e8b40529",
   "metadata": {},
   "outputs": [],
   "source": []
  }
 ],
 "metadata": {
  "kernelspec": {
   "display_name": "Python 3 (ipykernel)",
   "language": "python",
   "name": "python3"
  },
  "language_info": {
   "codemirror_mode": {
    "name": "ipython",
    "version": 3
   },
   "file_extension": ".py",
   "mimetype": "text/x-python",
   "name": "python",
   "nbconvert_exporter": "python",
   "pygments_lexer": "ipython3",
   "version": "3.10.11"
  }
 },
 "nbformat": 4,
 "nbformat_minor": 5
}
