{
 "cells": [
  {
   "cell_type": "markdown",
   "id": "81db8649",
   "metadata": {},
   "source": [
    "# Predator Prey Coevolution using JAX\n",
    "\n",
    "This example demonstrates how one may use Maelstrom with JAX to implement accelerated coevolution on the classic predator-prey problem.\n",
    "\n",
    "First, install `mealstrom` and `snake-eyes` from PyPi if they are not already installed. Depending on your environment, you may also need to install JAX."
   ]
  },
  {
   "cell_type": "code",
   "execution_count": null,
   "id": "47cd5c1e",
   "metadata": {},
   "outputs": [],
   "source": [
    "# !pip install maelstrom-evolution snake-eyes-parser\n",
    "# !pip install jax jaxlib"
   ]
  },
  {
   "cell_type": "markdown",
   "id": "789f6186",
   "metadata": {},
   "source": [
    "With installation complete, we can now import `maelstrom` and `snake-eyes` for use within this notebook."
   ]
  },
  {
   "cell_type": "code",
   "execution_count": 1,
   "id": "f35295c1",
   "metadata": {},
   "outputs": [],
   "source": [
    "from maelstrom import Maelstrom\n",
    "from snake_eyes import read_config"
   ]
  },
  {
   "cell_type": "markdown",
   "id": "e61a75de",
   "metadata": {},
   "source": [
    "## Primitive Definition\n",
    "With `maelstrom` imported, we can now define our strong-typed primitives for this example. For brevity and reusability, these primitives are defined in a separate file and may simply be imported for use in this notebook."
   ]
  },
  {
   "cell_type": "code",
   "execution_count": 2,
   "id": "32c80198",
   "metadata": {},
   "outputs": [],
   "source": [
    "from primitives import *"
   ]
  },
  {
   "cell_type": "markdown",
   "id": "27b4a83f",
   "metadata": {},
   "source": [
    "## Fitness Function Definition\n",
    "We also need to define a fitness function. Again, we define this function in a separate file, imported in this program, and then referenced from within the configuration file for this example."
   ]
  },
  {
   "cell_type": "code",
   "execution_count": 3,
   "id": "2cd2c33f",
   "metadata": {},
   "outputs": [],
   "source": [
    "from predator_prey import round_robin_evaluation"
   ]
  },
  {
   "cell_type": "markdown",
   "id": "6acc9132",
   "metadata": {},
   "source": [
    "## Configuration\n",
    "Now, we load a configuration file for this example using the `snake-eyes` configuration parser. For transparency, we'll print the content of this file as it provides meaningful insight about how defined constants and functions may be referenced from within the configuratino file."
   ]
  },
  {
   "cell_type": "code",
   "execution_count": 4,
   "id": "4e803e72",
   "metadata": {},
   "outputs": [
    {
     "name": "stdout",
     "output_type": "stream",
     "text": [
      "DEFAULT\n",
      "  {}\n",
      "MAELSTROM\n",
      "  islands: {'1': 'ISLAND'}\n",
      "  migration_edges: []\n",
      "  evaluations: 5000\n",
      "GENERAL\n",
      "  runs: 2\n",
      "  pop_size: 10\n",
      "  num_children: 10\n",
      "  parent_selection: k_tournament\n",
      "  k_parent: 10\n",
      "  mutation: 0.1\n",
      "  survival_strategy: plus\n",
      "  survival_selection: truncation\n",
      "  depth_limit: 5\n",
      "  hard_limit: 20\n",
      "  depth_min: 1\n",
      "  output_type: Angle\n",
      "ISLAND\n",
      "  populations: {'predators': 'predators', 'prey': 'prey'}\n",
      "  evaluation_function: <function round_robin_evaluation at 0x7f27eb9f7ac0>\n",
      "  evaluation_kwargs: {'predator_move_speed': 0.06, 'prey_move_speed': 0.1, 'agent_radius': 0.1, 'time_limit': 200}\n",
      "  champions_per_generation: 5\n",
      "predators\n",
      "  roles: General\n",
      "  output_type: Angle\n",
      "  depth_limit: 5\n",
      "  hard_limit: 20\n",
      "  depth_min: 1\n",
      "  pop_size: 10\n",
      "  num_children: 10\n",
      "  parent_selection: k_tournament\n",
      "  k_parent: 10\n",
      "  mutation: 0.1\n",
      "  survival_strategy: plus\n",
      "  survival_selection: truncation\n",
      "prey\n",
      "  roles: General\n",
      "  output_type: Angle\n",
      "  depth_limit: 5\n",
      "  hard_limit: 20\n",
      "  depth_min: 1\n",
      "  pop_size: 10\n",
      "  num_children: 10\n",
      "  parent_selection: k_tournament\n",
      "  k_parent: 10\n",
      "  mutation: 0.1\n",
      "  survival_strategy: plus\n",
      "  survival_selection: truncation\n"
     ]
    }
   ],
   "source": [
    "config = read_config('./configs/maelstrom.cfg', globals(), locals())\n",
    "for section, params in config.items():\n",
    "    print(section)\n",
    "    if params == {}:\n",
    "        print(f\"  {params}\")\n",
    "    else:\n",
    "        for key, value in params.items():\n",
    "            print(f\"  {key}: {value}\")"
   ]
  },
  {
   "cell_type": "markdown",
   "id": "0761b1b9",
   "metadata": {},
   "source": [
    "## Experiment\n",
    "With everything imported and configured, we can now instantiate a `Maelstrom` using parameters from the configuration file and run an experiment."
   ]
  },
  {
   "cell_type": "code",
   "execution_count": 5,
   "id": "9f597e2e",
   "metadata": {},
   "outputs": [
    {
     "name": "stderr",
     "output_type": "stream",
     "text": [
      "No GPU/TPU found, falling back to CPU. (Set TF_CPP_MIN_LOG_LEVEL=0 and rerun for more info.)\n"
     ]
    },
    {
     "data": {
      "application/vnd.jupyter.widget-view+json": {
       "model_id": "8781661bb60b4f1aaca020a61f342f14",
       "version_major": 2,
       "version_minor": 0
      },
      "text/plain": [
       "  0%|          | 0/5000 [00:00<?, ? evals/s]"
      ]
     },
     "metadata": {},
     "output_type": "display_data"
    },
    {
     "data": {
      "text/plain": [
       "<maelstrom.Maelstrom at 0x7f27eb9fb550>"
      ]
     },
     "execution_count": 5,
     "metadata": {},
     "output_type": "execute_result"
    }
   ],
   "source": [
    "evolver = Maelstrom(**config['MAELSTROM'], **config)\n",
    "evolver.run()"
   ]
  },
  {
   "cell_type": "markdown",
   "id": "3043d3cc",
   "metadata": {},
   "source": [
    "## Experiment Log\n",
    "Note that the fitness function used in this example returned data that was automatically stored in the `Maelstrom` instance and organized by island."
   ]
  },
  {
   "cell_type": "code",
   "execution_count": 6,
   "id": "bdf6d9f9",
   "metadata": {},
   "outputs": [
    {
     "name": "stdout",
     "output_type": "stream",
     "text": [
      "Island 1\n",
      "avg_predator_fitness\n",
      "[Array(58.609993, dtype=float32), Array(95.4525, dtype=float32), Array(136.29251, dtype=float32), Array(155.98251, dtype=float32), Array(169.7975, dtype=float32), Array(160.43002, dtype=float32), Array(176.30003, dtype=float32), Array(167.69748, dtype=float32), Array(173.60004, dtype=float32), Array(169.39996, dtype=float32), Array(165.16753, dtype=float32), Array(157.03748, dtype=float32), Array(167.33253, dtype=float32), Array(168.86996, dtype=float32)]\n",
      "max_predator_fitness\n",
      "[Array(167.9, dtype=float32), Array(174.55, dtype=float32), Array(182.45, dtype=float32), Array(183.35, dtype=float32), Array(182., dtype=float32), Array(179.35, dtype=float32), Array(176.3, dtype=float32), Array(175.65, dtype=float32), Array(173.6, dtype=float32), Array(173.4, dtype=float32), Array(173.35, dtype=float32), Array(173.65, dtype=float32), Array(175.3, dtype=float32), Array(172.45, dtype=float32)]\n",
      "avg_prey_fitness\n",
      "[Array(141.39, dtype=float32), Array(104.54751, dtype=float32), Array(63.707497, dtype=float32), Array(44.0175, dtype=float32), Array(30.2025, dtype=float32), Array(39.570004, dtype=float32), Array(23.7, dtype=float32), Array(32.302498, dtype=float32), Array(26.4, dtype=float32), Array(30.6, dtype=float32), Array(34.832497, dtype=float32), Array(42.962498, dtype=float32), Array(32.667496, dtype=float32), Array(31.13, dtype=float32)]\n",
      "max_prey_fitness\n",
      "[Array(182.1, dtype=float32), Array(144.3, dtype=float32), Array(127.55, dtype=float32), Array(100.25, dtype=float32), Array(44.8, dtype=float32), Array(53.45, dtype=float32), Array(34., dtype=float32), Array(42.3, dtype=float32), Array(34., dtype=float32), Array(36.850002, dtype=float32), Array(42.3, dtype=float32), Array(50.600002, dtype=float32), Array(42.3, dtype=float32), Array(36.850002, dtype=float32)]\n"
     ]
    }
   ],
   "source": [
    "for island, log in evolver.log.items():\n",
    "    print(f'Island {island}')\n",
    "    for key, value in log.items():\n",
    "        print(key)\n",
    "        print(value)"
   ]
  },
  {
   "cell_type": "code",
   "execution_count": null,
   "id": "79a3f383",
   "metadata": {},
   "outputs": [],
   "source": []
  }
 ],
 "metadata": {
  "kernelspec": {
   "display_name": "Python 3 (ipykernel)",
   "language": "python",
   "name": "python3"
  },
  "language_info": {
   "codemirror_mode": {
    "name": "ipython",
    "version": 3
   },
   "file_extension": ".py",
   "mimetype": "text/x-python",
   "name": "python",
   "nbconvert_exporter": "python",
   "pygments_lexer": "ipython3",
   "version": "3.10.11"
  }
 },
 "nbformat": 4,
 "nbformat_minor": 5
}
