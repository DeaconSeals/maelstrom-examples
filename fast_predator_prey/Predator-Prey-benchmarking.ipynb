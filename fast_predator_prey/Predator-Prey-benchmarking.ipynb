{
 "cells": [
  {
   "cell_type": "markdown",
   "id": "2ad2efb8",
   "metadata": {},
   "source": [
    "# Benchmarking Predator Prey Coevolution using JAX\n",
    "\n",
    "This notebook benchmarks Maelstrom with JAX to implement accelerated coevolution on the classic predator-prey problem.\n",
    "\n",
    "First, install `mealstrom` and `snake-eyes` from PyPi if they are not already installed. Depending on your environment, you may also need to install JAX."
   ]
  },
  {
   "cell_type": "code",
   "execution_count": null,
   "id": "47cd5c1e",
   "metadata": {},
   "outputs": [],
   "source": [
    "# !pip install maelstrom-evolution snake-eyes-parser\n",
    "# !pip install jax jaxlib"
   ]
  },
  {
   "cell_type": "markdown",
   "id": "7b3b5b34",
   "metadata": {},
   "source": [
    "With installation complete, we can now import `maelstrom` and `snake-eyes` for use within this notebook. In this example, we also import `time` and `random` for timing and seeding, respectively."
   ]
  },
  {
   "cell_type": "code",
   "execution_count": null,
   "id": "f35295c1",
   "metadata": {},
   "outputs": [],
   "source": [
    "from maelstrom import Maelstrom\n",
    "from snake_eyes import read_config\n",
    "import time\n",
    "import random"
   ]
  },
  {
   "cell_type": "markdown",
   "id": "8f020684",
   "metadata": {},
   "source": [
    "## Primitive Definition\n",
    "With `maelstrom` imported, we can now define our strong-typed primitives for this example. For brevity and reusability, these primitives are defined in a separate file and may simply be imported for use in this notebook."
   ]
  },
  {
   "cell_type": "code",
   "execution_count": null,
   "id": "32c80198",
   "metadata": {},
   "outputs": [],
   "source": [
    "from primitives import *"
   ]
  },
  {
   "cell_type": "markdown",
   "id": "5a071c75",
   "metadata": {},
   "source": [
    "## Fitness Function Definition\n",
    "We also need to define a fitness function. Again, we define this function in a separate file, imported in this program, and then referenced from within the configuration file for this example."
   ]
  },
  {
   "cell_type": "code",
   "execution_count": null,
   "id": "2cd2c33f",
   "metadata": {},
   "outputs": [],
   "source": [
    "from predator_prey import *"
   ]
  },
  {
   "cell_type": "markdown",
   "id": "ed20fe56",
   "metadata": {},
   "source": [
    "## Configuration\n",
    "Now, we load a configuration file for this example using the `snake-eyes` configuration parser. For transparency, we'll print the content of this file as it provides meaningful insight about how defined constants and functions may be referenced from within the configuratino file."
   ]
  },
  {
   "cell_type": "code",
   "execution_count": null,
   "id": "4e803e72",
   "metadata": {},
   "outputs": [],
   "source": [
    "config = read_config('./configs/maelstrom.cfg', globals(), locals())\n",
    "for section, params in config.items():\n",
    "    print(section)\n",
    "    if params == {}:\n",
    "        print(f\"  {params}\")\n",
    "    else:\n",
    "        for key, value in params.items():\n",
    "            print(f\"  {key}: {value}\")"
   ]
  },
  {
   "cell_type": "markdown",
   "id": "e4dd7199",
   "metadata": {},
   "source": [
    "## Benchmarking\n",
    "With everything imported and configured, we will now configure the parameters we intend to vary during benchmarking. In this case, we will define a list of population sizes along with the number of samples we want to collect for each size and a variable to store our data. In this case, the size value is used for both $\\mu$ and $\\lambda$ in a $(\\mu+\\lambda)$ performing round-robin competitions at each generation. As such, given the constant evaluation limit of each run of evolution, as population size increases we can expect to see fewer generations and larger competitions performed at each generation. This allows us to meaningfully quantify the impact of repeating this experiment with and without accelerator utilization in JAX."
   ]
  },
  {
   "cell_type": "code",
   "execution_count": null,
   "id": "3be9ac3e",
   "metadata": {},
   "outputs": [],
   "source": [
    "sizes = [100, 200, 300]\n",
    "samples = 2\n",
    "data = {size:[] for size in sizes}"
   ]
  },
  {
   "cell_type": "code",
   "execution_count": null,
   "id": "a368155f",
   "metadata": {},
   "outputs": [],
   "source": [
    "for size in sizes:\n",
    "    config['predators']['pop_size'] = size\n",
    "    config['predators']['num_children'] = size\n",
    "    config['prey']['pop_size'] = size\n",
    "    config['prey']['num_children'] = size\n",
    "    for _ in range(samples):\n",
    "        random.seed(42)\n",
    "        start = time.time()\n",
    "        evolver = Maelstrom(**config['MAELSTROM'], **config)\n",
    "        evolver.run()\n",
    "        data[size].append(time.time()-start)"
   ]
  },
  {
   "cell_type": "code",
   "execution_count": null,
   "id": "e8b40529",
   "metadata": {},
   "outputs": [],
   "source": [
    "from statistics import mean, stdev\n",
    "\n",
    "for size, values in data.items():\n",
    "    print(f'population size: {size} (n = {len(values)})')\n",
    "    print(f'mean time (s): {mean(values)}')\n",
    "    print(f'standard deviation: {stdev(values)}')"
   ]
  }
 ],
 "metadata": {
  "kernelspec": {
   "display_name": "Python 3 (ipykernel)",
   "language": "python",
   "name": "python3"
  },
  "language_info": {
   "codemirror_mode": {
    "name": "ipython",
    "version": 3
   },
   "file_extension": ".py",
   "mimetype": "text/x-python",
   "name": "python",
   "nbconvert_exporter": "python",
   "pygments_lexer": "ipython3",
   "version": "3.10.11"
  }
 },
 "nbformat": 4,
 "nbformat_minor": 5
}
