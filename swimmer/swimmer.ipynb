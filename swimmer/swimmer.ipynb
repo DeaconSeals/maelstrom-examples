{
 "cells": [
  {
   "cell_type": "code",
   "execution_count": 22,
   "metadata": {},
   "outputs": [],
   "source": [
    "\n",
    "from maelstrom.genotype import GeneticTree\n",
    "from maelstrom.population import GeneticProgrammingPopulation\n",
    "import gymnasium as gym\n",
    "from maelstrom.island import GeneticProgrammingIsland\n",
    "from snake_eyes import read_config\n",
    "import matplotlib.pyplot as plt"
   ]
  },
  {
   "attachments": {},
   "cell_type": "markdown",
   "metadata": {},
   "source": [
    "# Before You Code\n",
    "---\n",
    "\n",
    "Before coding, users should define a configuration file for their expirement. See the configs folder for an example. The expirment folder tells maelstrom certain variables about your expirement, such as the number of evaluations to complete. "
   ]
  },
  {
   "attachments": {},
   "cell_type": "markdown",
   "metadata": {},
   "source": [
    "# Define Evaluation Function\n",
    "---\n",
    "\n",
    "The evaluation function is one of the core pieces of evolutionary computing and the Maelstrom framework. Maelstrom allows you to create and use your own evaluation function for maximum customizability. To use the defined evaluation function, all you have to do is specify the name of the function in your config file. \n",
    "\n",
    "In the evaluation function we defined for the swimmer gym, we step through each frame of the gym for each individual and allow the individual genotype to calculate a movement vector based on the observation space using strong type GP. We then assign a reward based on the results of the action. Following that, some information regarding performance is collected and data is gathered. The return from the evaluation function should be a python dictionary containing the data you would like to save in the log field on the island object and the number of evaluations. "
   ]
  },
  {
   "cell_type": "code",
   "execution_count": 23,
   "metadata": {},
   "outputs": [],
   "source": [
    "def evaluation(swimmers: GeneticProgrammingPopulation, **kwargs):\n",
    "    env = kwargs[\"env\"]\n",
    "    if swimmers.population is None:\n",
    "        raise ValueError(\"Population is empty.\")\n",
    "    for individual in swimmers.population:\n",
    "        individual.fitness = 0\n",
    "        observation, info = env.reset()\n",
    "\n",
    "        for _ in range(1_000):\n",
    "            action = individual.execute(observation)\n",
    "            observation, reward, terminated, truncated, info = env.step(action)\n",
    "            individual.fitness += reward\n",
    "\n",
    "            if terminated or truncated:\n",
    "                break\n",
    "    try:\n",
    "        swimmers.best.append(max(swimmers.population, key=lambda x: x.fitness))\n",
    "    except Exception:\n",
    "        swimmers.best = [max(swimmers.population, key=lambda x: x.fitness)]\n",
    "\n",
    "    return gather_data(swimmers), len(swimmers.population)\n",
    "\n",
    "\n",
    "#######################################\n",
    "# Simple data collection and plotting #\n",
    "#######################################\n",
    "def gather_data(\n",
    "    swimmers: GeneticProgrammingPopulation,\n",
    "    evals=None,\n",
    ") -> dict:\n",
    "    \"\"\"\n",
    "    Gather data from the population\n",
    "    \"\"\"\n",
    "    if swimmers.population is None:\n",
    "        raise ValueError(\"Pops must not be None\")\n",
    "    log = {}\n",
    "    fitness = [i.fitness for i in swimmers.population]\n",
    "    log[\"avg_fitness\"] = sum(fitness) / len(fitness)\n",
    "    log[\"max_fitness\"] = max(fitness)\n",
    "    if evals:\n",
    "        log[\"evals\"] = evals\n",
    "    return log\n",
    "\n",
    "\n",
    "def plot_data(data: list[dict], title: str, y_label: str, x_label: str):\n",
    "    \"\"\"\n",
    "    Plots the data from the log\n",
    "    \"\"\"\n",
    "    # first, write data to file\n",
    "    print(data)\n",
    "    with open(\"data.txt\", \"w\") as f:\n",
    "        # data in the format of {\"avg_fitness\":[], \"max_fitness\":[]}\n",
    "        # one column for generation number, which corresponds to the index\n",
    "        # one column for the average fitness\n",
    "        # one column for the max fitness\n",
    "\n",
    "        # write the header\n",
    "        f.write(f\"{x_label}\\t|\\t{y_label}\\t|\\tMax Fitness\\n\")\n",
    "        for i, _ in enumerate(data[\"avg_fitness\"]):\n",
    "            f.write(f\"{i}\\t|\\t{data['avg_fitness'][i]}\\t|\\t{data['max_fitness'][i]}\\n\")\n",
    "\n",
    "    fig, ax = plt.subplots()\n",
    "    ax.set_ylim([-500, 500])\n",
    "    ax.plot([i for i, _ in enumerate(data[\"avg_fitness\"])], data[\"avg_fitness\"])\n",
    "    ax.set(xlabel=x_label, ylabel=y_label, title=title)\n",
    "    plt.show()\n",
    "\n",
    "\n",
    "\n"
   ]
  },
  {
   "attachments": {},
   "cell_type": "markdown",
   "metadata": {},
   "source": [
    "# Design Primitives\n",
    "---\n",
    "Next we defined the primitives to use for this experiment. Primitives can be defined in a separate file as well, as long as they are imported into the file being executed, the \"declare_primitive\" wrapper will register them. Here, we defined a few types: \n",
    "\n",
    "- Output: This is the vector to be output by the tree created\n",
    "- Float: This is the floating point values from the calculations done within the primtives. Note: The names of the primitives do not determine what type they are. I could have called this type \"integer\" and it would still really represent the type of floating point values calculated from the primitives. The point of the types is to help build the tree, and determine what nodes can be children or parents of what nodes. For example, if we defined a primitive that takes in two floats, when the tree is built, it knows that that primitives node needs to nodes that output the \"float\" type as children. \n",
    "\n",
    "The GENERAL variable represents a role. This is useful for the configuration files. It allows you to assign different populations to different roles. This means that if I was doing competitive coevolution, I might want to have different populations with different primitives. I could do this by assigning certain primitives to different roles, then giving certain populations that role in the configuration file. "
   ]
  },
  {
   "cell_type": "code",
   "execution_count": 24,
   "metadata": {},
   "outputs": [],
   "source": [
    "\n",
    "\"\"\"\n",
    "\n",
    "Primitives for the genetic tree.\n",
    "\n",
    "The declare_primitives wrapper follows the following signature:\n",
    "    declare_primitives(\n",
    "        role: str,\n",
    "        output_type: str,\n",
    "        input_types: Tuple[str, ...],\n",
    "    )\n",
    "\n",
    "\"\"\"\n",
    "\n",
    "OUTPUT = \"OUTPUT\"\n",
    "FLOAT = \"FLOAT\"\n",
    "GENERAL = \"GENERAL\"\n",
    "\n",
    "@GeneticTree.declare_primitive(GENERAL, OUTPUT, (FLOAT, FLOAT))\n",
    "def create_output(float_1, float_2):\n",
    "    \"\"\"Output a tuple of two floats, where each float is coerced to be between -1 and 1.\"\"\"\n",
    "    return float_1, float_2\n",
    "\n",
    "\n",
    "@GeneticTree.declare_primitive(GENERAL, FLOAT, (FLOAT, FLOAT))\n",
    "def add(float_1, float_2):\n",
    "    \"\"\"Add two floats.\"\"\"\n",
    "    return float_1 + float_2\n",
    "\n",
    "\n",
    "@GeneticTree.declare_primitive(GENERAL, FLOAT, (FLOAT, FLOAT))\n",
    "def sub(float_1, float_2):\n",
    "    \"\"\"Add two floats.\"\"\"\n",
    "    return float_1 - float_2\n",
    "\n",
    "\n",
    "@GeneticTree.declare_primitive(GENERAL, FLOAT, (FLOAT, FLOAT))\n",
    "def mul(float_1, float_2):\n",
    "    \"\"\"Add two floats.\"\"\"\n",
    "    return float_1 * float_2\n",
    "\n",
    "\n",
    "@GeneticTree.declare_primitive(GENERAL, FLOAT, (FLOAT, FLOAT))\n",
    "def div(float_1, float_2):\n",
    "    \"\"\"Add two floats.\"\"\"\n",
    "    return float_1 / float_2 if float_2 != 0 else float_1\n",
    "\n",
    "\n",
    "@GeneticTree.declare_primitive(GENERAL, FLOAT, ())\n",
    "def context_0(context):\n",
    "    \"\"\"Get the first context value.\"\"\"\n",
    "    return context[0]\n",
    "\n",
    "\n",
    "@GeneticTree.declare_primitive(GENERAL, FLOAT, ())\n",
    "def context_1(context):\n",
    "    \"\"\"Get the second context value.\"\"\"\n",
    "    return context[1]\n",
    "\n",
    "\n",
    "@GeneticTree.declare_primitive(GENERAL, FLOAT, ())\n",
    "def context_2(context):\n",
    "    \"\"\"Get the third context value.\"\"\"\n",
    "    return context[2]\n",
    "\n",
    "\n",
    "@GeneticTree.declare_primitive(GENERAL, FLOAT, ())\n",
    "def context_3(context):\n",
    "    \"\"\"Get the fourth context value.\"\"\"\n",
    "    return context[3]\n",
    "\n",
    "\n",
    "@GeneticTree.declare_primitive(GENERAL, FLOAT, ())\n",
    "def context_4(context):\n",
    "    \"\"\"Get the fifth context value.\"\"\"\n",
    "    return context[4]\n",
    "\n",
    "\n",
    "@GeneticTree.declare_primitive(GENERAL, FLOAT, ())\n",
    "def context_5(context):\n",
    "    \"\"\"Get the sixth context value.\"\"\"\n",
    "    return context[5]\n",
    "\n",
    "\n",
    "@GeneticTree.declare_primitive(GENERAL, FLOAT, ())\n",
    "def context_6(context):\n",
    "    \"\"\"Get the seventh context value.\"\"\"\n",
    "    return context[6]\n",
    "\n",
    "\n",
    "@GeneticTree.declare_primitive(GENERAL, FLOAT, ())\n",
    "def context_7(context):\n",
    "    \"\"\"Get the eighth context value.\"\"\"\n",
    "    return context[7]\n"
   ]
  },
  {
   "attachments": {},
   "cell_type": "markdown",
   "metadata": {},
   "source": [
    "# Comparison to Primitives in the DEAP Framework\n",
    "---\n",
    "One of the most popular Genetic Programming frameworks is called DEAP. DEAP takes a similar approach to creating primitives that we will give an example of here. This will be a markdown examination and not a fully implemented / runnable comparison. All of the primitives defined below would be useful primtiives for our Swimmer example.\n",
    "\n",
    "All examples are pulled from the following link: https://deap.readthedocs.io/en/master/tutorials/advanced/gp.html\n",
    "\n",
    "Here is a weak type example from their documentation:\n",
    "```python\n",
    "pset = PrimitiveSet(\"main\", 2)\n",
    "pset.addPrimitive(max, 2)\n",
    "pset.addPrimitive(operator.add, 2)\n",
    "pset.addPrimitive(operator.mul, 2)\n",
    "pset.addTerminal(3)\n",
    "```\n",
    "\n",
    "The first line creates a primitive set. Its arguments are the name of the procedure it will generate (\"main\") and its number of inputs, 2. The next three lines add functions as primitives. The first argument is the function to add and the second argument the function arity. The last line adds a constant terminal. Currently, the default names for the arguments are \"ARG0\" and \"ARG1\". \n",
    "\n",
    "This implemntation is similar to Maelstrom. A function is defined, as well as the number of inputs. This helps build the structure of the tree genotype. The main difference here is the confusion with writing functions that manipulate the arguments. It is not as clear as within the functions built with Maelstrom. Additionally, these primitives are registered with the implementation of the expirment, whereas with Maelstrom, any imported primitives using the wrapper will be used. This makes sharing primitives across experiments more complicated. For example, most of the primitives within the repo that is paired with this paper only needed to be written once and then imported, no extra work to reuse generic weak type primitives. However, using DEAP, these primitives would have needed to be registered for each example, making it more painful to use well written primitives that can span multiple problem domains. \n",
    "\n",
    "One of the most notable differences is the lack of roles. Looking at DEAP's documentation, there is no obvious way to separate out different primitives for different populations easily. That is because DEAP does not treat coevolution as a first class citizen, while Maelstrom heavily focuses on the practice. \n",
    "\n",
    "Here is an additional example with strong type GP:\n",
    "\n",
    "```python\n",
    "pset = PrimitiveSetTyped(\"main\", [bool, float], float)\n",
    "pset.addPrimitive(operator.xor, [bool, bool], bool)\n",
    "pset.addPrimitive(operator.mul, [float, float], float)\n",
    "pset.addPrimitive(if_then_else, [bool, float, float], float)\n",
    "pset.addTerminal(3.0, float)\n",
    "pset.addTerminal(1, bool)\n",
    "```\n",
    "\n",
    "This is also similar to our implementation of strong type primitives. Specifically, the output type of a primitive must match the input type of another one for them to be connected. However, there are a few immediately obvious differences. The first is that DEAP uses strict Python types for its type definition. While this is intuitive, it also reduces flexibility. "
   ]
  },
  {
   "attachments": {},
   "cell_type": "markdown",
   "metadata": {},
   "source": [
    "# Create a Driver\n",
    "---\n",
    "The driver is simply the function that creates an instance of a population and runs the experiment."
   ]
  },
  {
   "cell_type": "code",
   "execution_count": 25,
   "metadata": {},
   "outputs": [],
   "source": [
    "def driver():\n",
    "    env = gym.make(\"Swimmer-v4\", ctrl_cost_weight=0.01)\n",
    "    config = read_config(\"./configs/main.cfg\", globals(), locals())\n",
    "    island = GeneticProgrammingIsland(**config[\"ISLAND\"], **config)\n",
    "    island.populations[\"swimmers\"].best = []\n",
    "    island.run()\n",
    "\n",
    "    plot_data(island.log, \"Swimmer\", \"Fitness\", \"Generation\")\n",
    "\n",
    "    # find the best champion and render\n",
    "    best = max(island.populations[\"swimmers\"].best, key=lambda x: x.fitness)\n",
    "    print(\"Best agent's fitness: \", best.fitness)\n",
    "    genotype = best\n",
    "    env.unwrapped.render_mode = \"human\"\n",
    "    observation, _ = env.reset()\n",
    "    fitness = 0\n",
    "    for _ in range(1_000):\n",
    "        action = genotype.execute(observation)\n",
    "        observation, reward, terminated, truncated, _ = env.step(action)\n",
    "        env.render()\n",
    "        fitness += reward\n",
    "\n",
    "        if terminated or truncated:\n",
    "            break\n",
    "    print(\"Fitness during rendering: \", fitness)\n",
    "    env.close()"
   ]
  },
  {
   "attachments": {},
   "cell_type": "markdown",
   "metadata": {},
   "source": [
    "# Execution\n",
    "---\n",
    "It bears noting when examining the resulting graph of fitness that there are frequent large valleys. This is due to the punishment for large movements. Essentially, since we are not applying any scaling to the vector output, the force values will frequently be above a \"large movement\" threshold defined in the gym that has a high default penalty value. This means that one mutation will cause one individual to have a VERY low fitness that brings down the average significantly."
   ]
  },
  {
   "cell_type": "code",
   "execution_count": 26,
   "metadata": {},
   "outputs": [
    {
     "data": {
      "application/vnd.jupyter.widget-view+json": {
       "model_id": "dedbd6c5af63419ca80562630b5c542b",
       "version_major": 2,
       "version_minor": 0
      },
      "text/plain": [
       "  0%|          | 0/50000 [00:00<?, ? evals/s]"
      ]
     },
     "metadata": {},
     "output_type": "display_data"
    },
    {
     "name": "stdout",
     "output_type": "stream",
     "text": [
      "{'avg_fitness': [-8.761617509291108e+44, -1.972562805140049e+29, -122523679.58480921, -150276.8560043448, -1812719597.444707, -492665.32404421875, -43731.15084314361, -200.68336615058308, -1473.7888098782246, 124.13266630605035, 127.21838185030305, 134.5778663431752, 138.501024313368, 139.16423461049934, 141.21193437256832, 161.99001663947573, 148.382764928689, 150.0381971434235, 146.26011632055378, -36135212.3373698, -188728.44574409406, -195.8023989475195, 146.97120228663672, 149.8298109909443, 148.74653718358007, 143.29812147509767, -3631.125040967504, 145.0947899661232, -4563.285594822098, 149.13901551616638, 149.6646131015457, 153.24369440128933, 144.88016316342026, 149.6141473725831, -45036003270.312874, 154.00634969054366, 141.05249337483548, 149.35258625976434, 148.94968428617935, 150.38084854758822, 149.623965712553, -4070.952802084765, 150.9122763546864, 155.57320451477906, -19112.204679560742, 141.35634550633685, -857878228.2048662, 147.02413089047667, 149.33219121648574, 144.6228621415823, 143.50350106803987, 142.9794948441809, 151.7272253030265, -3650558.597322754, 142.95887640280662, 156.43945144798442, 136.71004409673083, -50145.89111579015, 142.01106198756497, 141.38678795523685, 148.24592409728533, 146.11131346091975, 148.27779951030666, 155.55492797126507, 143.87688025171713, 150.352640902745, 145.24836504687082, 143.0533938493404, 154.07338755650585, 144.48905343498578, -17234.125399592638, 141.72308558701334, 150.92558123922083, 145.45392128152568, 152.87889805093585, 144.4093160167228, -201707446155.60916, 143.73670217564546, 137.7418715084852, -6969.711394212453, 143.6465257514711, 143.88361720157948, 151.53039958826974, -596171.4795162827, 138.33646916246403, 144.0598974033839, 146.90469432865638, 146.2177910671603, -15994.224939046515, 146.5525614047002, 149.31773809476113, 136.2280305144878, -3187932129.1342645, 144.33903417935946, -48366.4998007725, 145.7744690170415, 143.68571632528491, 151.88460543074174, 151.22543662620683, 147.78810898191608, 144.18303745597245, 144.8258247233361, 139.26171254462855, -23880.46126677137, -527274.1994864147, -1338868.326513131, 155.0385351931475, 141.11475081561863, 155.2654787702568, 142.59506129228518, 143.10060971353354, 139.37879543699376, 153.0466697478817, 157.55165392734816, 146.37719356666756, 142.351368881651, -20010.472432272603, 152.08589923333048, -2369211.8344973363, -5291.768919184642, 154.96562825927958, 141.16404143887604, 138.1677659909376, -51506093948.4227, 147.7781580718826, 153.63574965030654, 146.47744917201013, -1253860447929703.0, -18800.08113062719, 150.51314553206285, 141.5752005674601, 148.30272998211103, 144.1902494284688, 143.33812653262606, 149.71798683788646, 136.83060022254222, 137.73507953593895, -59641.52139697514, 139.4060935493947, 142.26080904115582, 142.10636770147414, -268407.1715590516, 150.00279902714172, 151.0296074886016, 154.8632823876924, -8401.914694551055, 148.29956175153097, 153.15460971800928, 157.27545807433762, -99981.28559053112, 140.65962074135012, 139.83526995441593, 156.29970294756714, 145.87993911889996, 143.27078056214015, 142.5417747418536, 142.34465034341665, 153.45769424147042, 149.42630488540942, 154.2836834843592, 146.29529027309977, 150.1538242386102, 150.34867905661025, -731553.8034888766, 149.9202232995868, 137.7197894067963, 143.19318331593837], 'max_fitness': [28.678463570724283, 152.03622086611307, 152.9272168759547, 156.46640088629596, 153.6359335745134, 156.46785579507502, 173.5723007938552, 184.70410744007745, 198.73323282199362, 204.74829985088786, 204.38126569945237, 204.98296182117696, 204.82383785038357, 205.27288304569203, 205.12966277910252, 205.4390799722342, 204.93738149273864, 205.55819790428566, 204.43572472378466, 205.6379667715163, 205.82823932212148, 205.89231388556007, 205.01298829190068, 205.00507066077182, 205.83273367311665, 205.54421856820036, 205.3609159399511, 204.1968860325438, 204.6467287686073, 205.58033623509573, 205.5214550427516, 205.71767018392705, 205.26865568202294, 205.69421536147163, 205.96856007234044, 204.24014107177493, 204.0431366786653, 203.75301283429135, 204.9186827241769, 204.9957040195821, 205.91945167111845, 205.87247477374703, 205.46206569454233, 204.41774741618312, 204.53684470255504, 204.55133239570776, 204.55899849206648, 205.54527132583118, 205.40001341259534, 205.2607315766135, 204.89980420487055, 203.37965545793054, 205.29293322817506, 204.01168930888463, 204.3919017036784, 205.85553103858476, 204.6434423062967, 204.42744636146494, 204.63979488140427, 205.0372222755577, 203.65713219632536, 204.05290241989243, 204.02207659121092, 205.61185523440952, 204.42525316374937, 204.48647994936522, 203.7128295541335, 204.8561085334931, 204.78078569575953, 204.36621544335677, 203.0512573345065, 203.62068396723365, 205.16676194041358, 203.54218964018705, 205.75897026561384, 204.35027679404539, 203.60618416304462, 204.50999106785224, 203.72223781897887, 204.5995207468232, 203.79406076536654, 204.32452869242638, 204.15255893881925, 204.22657905107144, 203.98377679674076, 203.3484176741035, 203.69184572761665, 204.03428217631065, 203.85412092281842, 203.76524882039075, 203.57228648850324, 203.90665152869482, 204.07891015274592, 203.53013864172263, 204.59510096220671, 205.08198641716476, 203.08514375575538, 204.25140894365904, 205.9054499613661, 204.13239220785326, 204.0593688051805, 203.775809377493, 203.88175556828156, 204.12582462861758, 204.2456061909578, 203.78626917021887, 204.1799509301091, 204.8638048871634, 203.69314298503727, 204.09820798813482, 204.75806941829055, 203.91832024416027, 204.79008582620057, 203.93405815828942, 203.71544734047822, 204.2030094292815, 203.76907620332653, 204.11997053561825, 204.32715085707753, 204.78933880893283, 204.06270808140212, 204.20918670338307, 204.3531745961024, 204.70223537347462, 205.3342656000104, 204.32262236641074, 204.595282728246, 204.30591387555705, 203.54627169328813, 204.25225010951021, 203.58146676714037, 204.98052987587704, 204.26218115939474, 203.54946096039873, 204.00262839280634, 204.084723727437, 203.36380956658078, 204.21173340825248, 204.34766366519932, 203.74674049116564, 204.24429625609503, 205.8041642567966, 205.2170689827834, 204.93427965751738, 205.15571214108633, 204.52348433219842, 204.59191052783342, 203.8817740715467, 204.28029059074862, 204.57308831999867, 204.77000572294006, 204.33558361824728, 203.75886448275304, 203.95491163253067, 204.84638764727106, 205.45736995315525, 203.4821253717962, 204.8963344219832, 204.51565125162668, 203.0009260775583, 203.89733327163802, 204.32982736670758, 203.85849237161264, 204.38049657568922, 203.65484515531458, 204.4935718908883, 203.86418129942487]}\n"
     ]
    },
    {
     "data": {
      "image/png": "[encoded data removed]",
      "text/plain": [
       "<Figure size 640x480 with 1 Axes>"
      ]
     },
     "metadata": {},
     "output_type": "display_data"
    },
    {
     "name": "stdout",
     "output_type": "stream",
     "text": [
      "Best agent's fitness:  203.86418129942487\n"
     ]
    },
    {
     "name": "stderr",
     "output_type": "stream",
     "text": [
      "/home/roberte777/coding/python/maelstrom-examples/swimmer/.venv/lib/python3.11/site-packages/glfw/__init__.py:916: GLFWError: (65537) b'The GLFW library is not initialized'\n",
      "  warnings.warn(message, GLFWError)\n"
     ]
    },
    {
     "ename": "KeyboardInterrupt",
     "evalue": "",
     "output_type": "error",
     "traceback": [
      "\u001b[0;31m---------------------------------------------------------------------------\u001b[0m",
      "\u001b[0;31mKeyboardInterrupt\u001b[0m                         Traceback (most recent call last)",
      "Cell \u001b[0;32mIn[26], line 1\u001b[0m\n\u001b[0;32m----> 1\u001b[0m driver()\n",
      "Cell \u001b[0;32mIn[25], line 20\u001b[0m, in \u001b[0;36mdriver\u001b[0;34m()\u001b[0m\n\u001b[1;32m     18\u001b[0m action \u001b[39m=\u001b[39m genotype\u001b[39m.\u001b[39mexecute(observation)\n\u001b[1;32m     19\u001b[0m observation, reward, terminated, truncated, _ \u001b[39m=\u001b[39m env\u001b[39m.\u001b[39mstep(action)\n\u001b[0;32m---> 20\u001b[0m env\u001b[39m.\u001b[39;49mrender()\n\u001b[1;32m     21\u001b[0m fitness \u001b[39m+\u001b[39m\u001b[39m=\u001b[39m reward\n\u001b[1;32m     23\u001b[0m \u001b[39mif\u001b[39;00m terminated \u001b[39mor\u001b[39;00m truncated:\n",
      "File \u001b[0;32m~/coding/python/maelstrom-examples/swimmer/.venv/lib/python3.11/site-packages/gymnasium/core.py:418\u001b[0m, in \u001b[0;36mWrapper.render\u001b[0;34m(self)\u001b[0m\n\u001b[1;32m    416\u001b[0m \u001b[39mdef\u001b[39;00m \u001b[39mrender\u001b[39m(\u001b[39mself\u001b[39m) \u001b[39m-\u001b[39m\u001b[39m>\u001b[39m RenderFrame \u001b[39m|\u001b[39m \u001b[39mlist\u001b[39m[RenderFrame] \u001b[39m|\u001b[39m \u001b[39mNone\u001b[39;00m:\n\u001b[1;32m    417\u001b[0m \u001b[39m    \u001b[39m\u001b[39m\"\"\"Uses the :meth:`render` of the :attr:`env` that can be overwritten to change the returned data.\"\"\"\u001b[39;00m\n\u001b[0;32m--> 418\u001b[0m     \u001b[39mreturn\u001b[39;00m \u001b[39mself\u001b[39;49m\u001b[39m.\u001b[39;49menv\u001b[39m.\u001b[39;49mrender()\n",
      "File \u001b[0;32m~/coding/python/maelstrom-examples/swimmer/.venv/lib/python3.11/site-packages/gymnasium/wrappers/order_enforcing.py:70\u001b[0m, in \u001b[0;36mOrderEnforcing.render\u001b[0;34m(self, *args, **kwargs)\u001b[0m\n\u001b[1;32m     65\u001b[0m \u001b[39mif\u001b[39;00m \u001b[39mnot\u001b[39;00m \u001b[39mself\u001b[39m\u001b[39m.\u001b[39m_disable_render_order_enforcing \u001b[39mand\u001b[39;00m \u001b[39mnot\u001b[39;00m \u001b[39mself\u001b[39m\u001b[39m.\u001b[39m_has_reset:\n\u001b[1;32m     66\u001b[0m     \u001b[39mraise\u001b[39;00m ResetNeeded(\n\u001b[1;32m     67\u001b[0m         \u001b[39m\"\u001b[39m\u001b[39mCannot call `env.render()` before calling `env.reset()`, if this is a intended action, \u001b[39m\u001b[39m\"\u001b[39m\n\u001b[1;32m     68\u001b[0m         \u001b[39m\"\u001b[39m\u001b[39mset `disable_render_order_enforcing=True` on the OrderEnforcer wrapper.\u001b[39m\u001b[39m\"\u001b[39m\n\u001b[1;32m     69\u001b[0m     )\n\u001b[0;32m---> 70\u001b[0m \u001b[39mreturn\u001b[39;00m \u001b[39mself\u001b[39;49m\u001b[39m.\u001b[39;49menv\u001b[39m.\u001b[39;49mrender(\u001b[39m*\u001b[39;49margs, \u001b[39m*\u001b[39;49m\u001b[39m*\u001b[39;49mkwargs)\n",
      "File \u001b[0;32m~/coding/python/maelstrom-examples/swimmer/.venv/lib/python3.11/site-packages/gymnasium/wrappers/env_checker.py:63\u001b[0m, in \u001b[0;36mPassiveEnvChecker.render\u001b[0;34m(self, *args, **kwargs)\u001b[0m\n\u001b[1;32m     61\u001b[0m \u001b[39mif\u001b[39;00m \u001b[39mself\u001b[39m\u001b[39m.\u001b[39mchecked_render \u001b[39mis\u001b[39;00m \u001b[39mFalse\u001b[39;00m:\n\u001b[1;32m     62\u001b[0m     \u001b[39mself\u001b[39m\u001b[39m.\u001b[39mchecked_render \u001b[39m=\u001b[39m \u001b[39mTrue\u001b[39;00m\n\u001b[0;32m---> 63\u001b[0m     \u001b[39mreturn\u001b[39;00m env_render_passive_checker(\u001b[39mself\u001b[39;49m\u001b[39m.\u001b[39;49menv, \u001b[39m*\u001b[39;49margs, \u001b[39m*\u001b[39;49m\u001b[39m*\u001b[39;49mkwargs)\n\u001b[1;32m     64\u001b[0m \u001b[39melse\u001b[39;00m:\n\u001b[1;32m     65\u001b[0m     \u001b[39mreturn\u001b[39;00m \u001b[39mself\u001b[39m\u001b[39m.\u001b[39menv\u001b[39m.\u001b[39mrender(\u001b[39m*\u001b[39margs, \u001b[39m*\u001b[39m\u001b[39m*\u001b[39mkwargs)\n",
      "File \u001b[0;32m~/coding/python/maelstrom-examples/swimmer/.venv/lib/python3.11/site-packages/gymnasium/utils/passive_env_checker.py:391\u001b[0m, in \u001b[0;36menv_render_passive_checker\u001b[0;34m(env)\u001b[0m\n\u001b[1;32m    385\u001b[0m     \u001b[39melse\u001b[39;00m:\n\u001b[1;32m    386\u001b[0m         \u001b[39massert\u001b[39;00m env\u001b[39m.\u001b[39mrender_mode \u001b[39mis\u001b[39;00m \u001b[39mNone\u001b[39;00m \u001b[39mor\u001b[39;00m env\u001b[39m.\u001b[39mrender_mode \u001b[39min\u001b[39;00m render_modes, (\n\u001b[1;32m    387\u001b[0m             \u001b[39m\"\u001b[39m\u001b[39mThe environment was initialized successfully however with an unsupported render mode. \u001b[39m\u001b[39m\"\u001b[39m\n\u001b[1;32m    388\u001b[0m             \u001b[39mf\u001b[39m\u001b[39m\"\u001b[39m\u001b[39mRender mode: \u001b[39m\u001b[39m{\u001b[39;00menv\u001b[39m.\u001b[39mrender_mode\u001b[39m}\u001b[39;00m\u001b[39m, modes: \u001b[39m\u001b[39m{\u001b[39;00mrender_modes\u001b[39m}\u001b[39;00m\u001b[39m\"\u001b[39m\n\u001b[1;32m    389\u001b[0m         )\n\u001b[0;32m--> 391\u001b[0m result \u001b[39m=\u001b[39m env\u001b[39m.\u001b[39;49mrender()\n\u001b[1;32m    392\u001b[0m \u001b[39mif\u001b[39;00m env\u001b[39m.\u001b[39mrender_mode \u001b[39mis\u001b[39;00m \u001b[39mnot\u001b[39;00m \u001b[39mNone\u001b[39;00m:\n\u001b[1;32m    393\u001b[0m     _check_render_return(env\u001b[39m.\u001b[39mrender_mode, result)\n",
      "File \u001b[0;32m~/coding/python/maelstrom-examples/swimmer/.venv/lib/python3.11/site-packages/gymnasium/envs/mujoco/mujoco_env.py:379\u001b[0m, in \u001b[0;36mMujocoEnv.render\u001b[0;34m(self)\u001b[0m\n\u001b[1;32m    378\u001b[0m \u001b[39mdef\u001b[39;00m \u001b[39mrender\u001b[39m(\u001b[39mself\u001b[39m):\n\u001b[0;32m--> 379\u001b[0m     \u001b[39mreturn\u001b[39;00m \u001b[39mself\u001b[39;49m\u001b[39m.\u001b[39;49mmujoco_renderer\u001b[39m.\u001b[39;49mrender(\n\u001b[1;32m    380\u001b[0m         \u001b[39mself\u001b[39;49m\u001b[39m.\u001b[39;49mrender_mode, \u001b[39mself\u001b[39;49m\u001b[39m.\u001b[39;49mcamera_id, \u001b[39mself\u001b[39;49m\u001b[39m.\u001b[39;49mcamera_name\n\u001b[1;32m    381\u001b[0m     )\n",
      "File \u001b[0;32m~/coding/python/maelstrom-examples/swimmer/.venv/lib/python3.11/site-packages/gymnasium/envs/mujoco/mujoco_rendering.py:673\u001b[0m, in \u001b[0;36mMujocoRenderer.render\u001b[0;34m(self, render_mode, camera_id, camera_name)\u001b[0m\n\u001b[1;32m    670\u001b[0m     \u001b[39mreturn\u001b[39;00m img\n\u001b[1;32m    672\u001b[0m \u001b[39melif\u001b[39;00m render_mode \u001b[39m==\u001b[39m \u001b[39m\"\u001b[39m\u001b[39mhuman\u001b[39m\u001b[39m\"\u001b[39m:\n\u001b[0;32m--> 673\u001b[0m     \u001b[39mreturn\u001b[39;00m viewer\u001b[39m.\u001b[39;49mrender()\n",
      "File \u001b[0;32m~/coding/python/maelstrom-examples/swimmer/.venv/lib/python3.11/site-packages/gymnasium/envs/mujoco/mujoco_rendering.py:402\u001b[0m, in \u001b[0;36mWindowViewer.render\u001b[0;34m(self)\u001b[0m\n\u001b[1;32m    400\u001b[0m \u001b[39mif\u001b[39;00m \u001b[39mself\u001b[39m\u001b[39m.\u001b[39m_paused:\n\u001b[1;32m    401\u001b[0m     \u001b[39mwhile\u001b[39;00m \u001b[39mself\u001b[39m\u001b[39m.\u001b[39m_paused:\n\u001b[0;32m--> 402\u001b[0m         update()\n\u001b[1;32m    403\u001b[0m         \u001b[39mif\u001b[39;00m \u001b[39mself\u001b[39m\u001b[39m.\u001b[39m_advance_by_one_step:\n\u001b[1;32m    404\u001b[0m             \u001b[39mself\u001b[39m\u001b[39m.\u001b[39m_advance_by_one_step \u001b[39m=\u001b[39m \u001b[39mFalse\u001b[39;00m\n",
      "File \u001b[0;32m~/coding/python/maelstrom-examples/swimmer/.venv/lib/python3.11/site-packages/gymnasium/envs/mujoco/mujoco_rendering.py:353\u001b[0m, in \u001b[0;36mWindowViewer.render.<locals>.update\u001b[0;34m()\u001b[0m\n\u001b[1;32m    351\u001b[0m \u001b[39mdef\u001b[39;00m \u001b[39mupdate\u001b[39m():\n\u001b[1;32m    352\u001b[0m     \u001b[39m# fill overlay items\u001b[39;00m\n\u001b[0;32m--> 353\u001b[0m     \u001b[39mself\u001b[39;49m\u001b[39m.\u001b[39;49m_create_overlay()\n\u001b[1;32m    355\u001b[0m     render_start \u001b[39m=\u001b[39m time\u001b[39m.\u001b[39mtime()\n\u001b[1;32m    356\u001b[0m     \u001b[39mif\u001b[39;00m \u001b[39mself\u001b[39m\u001b[39m.\u001b[39mwindow \u001b[39mis\u001b[39;00m \u001b[39mNone\u001b[39;00m:\n",
      "File \u001b[0;32m~/coding/python/maelstrom-examples/swimmer/.venv/lib/python3.11/site-packages/gymnasium/envs/mujoco/mujoco_rendering.py:571\u001b[0m, in \u001b[0;36mWindowViewer._create_overlay\u001b[0;34m(self)\u001b[0m\n\u001b[1;32m    565\u001b[0m \u001b[39mself\u001b[39m\u001b[39m.\u001b[39madd_overlay(\n\u001b[1;32m    566\u001b[0m     topleft,\n\u001b[1;32m    567\u001b[0m     \u001b[39m\"\u001b[39m\u001b[39mSwitch camera (#cams = \u001b[39m\u001b[39m%d\u001b[39;00m\u001b[39m)\u001b[39m\u001b[39m\"\u001b[39m \u001b[39m%\u001b[39m (\u001b[39mself\u001b[39m\u001b[39m.\u001b[39mmodel\u001b[39m.\u001b[39mncam \u001b[39m+\u001b[39m \u001b[39m1\u001b[39m),\n\u001b[1;32m    568\u001b[0m     \u001b[39m\"\u001b[39m\u001b[39m[Tab] (camera ID = \u001b[39m\u001b[39m%d\u001b[39;00m\u001b[39m)\u001b[39m\u001b[39m\"\u001b[39m \u001b[39m%\u001b[39m \u001b[39mself\u001b[39m\u001b[39m.\u001b[39mcam\u001b[39m.\u001b[39mfixedcamid,\n\u001b[1;32m    569\u001b[0m )\n\u001b[1;32m    570\u001b[0m \u001b[39mself\u001b[39m\u001b[39m.\u001b[39madd_overlay(topleft, \u001b[39m\"\u001b[39m\u001b[39m[C]ontact forces\u001b[39m\u001b[39m\"\u001b[39m, \u001b[39m\"\u001b[39m\u001b[39mOn\u001b[39m\u001b[39m\"\u001b[39m \u001b[39mif\u001b[39;00m \u001b[39mself\u001b[39m\u001b[39m.\u001b[39m_contacts \u001b[39melse\u001b[39;00m \u001b[39m\"\u001b[39m\u001b[39mOff\u001b[39m\u001b[39m\"\u001b[39m)\n\u001b[0;32m--> 571\u001b[0m \u001b[39mself\u001b[39;49m\u001b[39m.\u001b[39;49madd_overlay(topleft, \u001b[39m\"\u001b[39;49m\u001b[39mT[r]ansparent\u001b[39;49m\u001b[39m\"\u001b[39;49m, \u001b[39m\"\u001b[39;49m\u001b[39mOn\u001b[39;49m\u001b[39m\"\u001b[39;49m \u001b[39mif\u001b[39;49;00m \u001b[39mself\u001b[39;49m\u001b[39m.\u001b[39;49m_transparent \u001b[39melse\u001b[39;49;00m \u001b[39m\"\u001b[39;49m\u001b[39mOff\u001b[39;49m\u001b[39m\"\u001b[39;49m)\n\u001b[1;32m    572\u001b[0m \u001b[39mif\u001b[39;00m \u001b[39mself\u001b[39m\u001b[39m.\u001b[39m_paused \u001b[39mis\u001b[39;00m \u001b[39mnot\u001b[39;00m \u001b[39mNone\u001b[39;00m:\n\u001b[1;32m    573\u001b[0m     \u001b[39mif\u001b[39;00m \u001b[39mnot\u001b[39;00m \u001b[39mself\u001b[39m\u001b[39m.\u001b[39m_paused:\n",
      "File \u001b[0;32m~/coding/python/maelstrom-examples/swimmer/.venv/lib/python3.11/site-packages/gymnasium/envs/mujoco/mujoco_rendering.py:71\u001b[0m, in \u001b[0;36mBaseRender.add_overlay\u001b[0;34m(self, gridpos, text1, text2)\u001b[0m\n\u001b[1;32m     68\u001b[0m \u001b[39mdef\u001b[39;00m \u001b[39mmake_context_current\u001b[39m(\u001b[39mself\u001b[39m):\n\u001b[1;32m     69\u001b[0m     \u001b[39mraise\u001b[39;00m \u001b[39mNotImplementedError\u001b[39;00m\n\u001b[0;32m---> 71\u001b[0m \u001b[39mdef\u001b[39;00m \u001b[39madd_overlay\u001b[39m(\u001b[39mself\u001b[39m, gridpos: \u001b[39mint\u001b[39m, text1: \u001b[39mstr\u001b[39m, text2: \u001b[39mstr\u001b[39m):\n\u001b[1;32m     72\u001b[0m \u001b[39m    \u001b[39m\u001b[39m\"\"\"Overlays text on the scene.\"\"\"\u001b[39;00m\n\u001b[1;32m     73\u001b[0m     \u001b[39mif\u001b[39;00m gridpos \u001b[39mnot\u001b[39;00m \u001b[39min\u001b[39;00m \u001b[39mself\u001b[39m\u001b[39m.\u001b[39m_overlays:\n",
      "\u001b[0;31mKeyboardInterrupt\u001b[0m: "
     ]
    }
   ],
   "source": [
    "driver()"
   ]
  }
 ],
 "metadata": {
  "kernelspec": {
   "display_name": ".venv",
   "language": "python",
   "name": "python3"
  },
  "language_info": {
   "codemirror_mode": {
    "name": "ipython",
    "version": 3
   },
   "file_extension": ".py",
   "mimetype": "text/x-python",
   "name": "python",
   "nbconvert_exporter": "python",
   "pygments_lexer": "ipython3",
   "version": "3.11.1"
  },
  "orig_nbformat": 4
 },
 "nbformat": 4,
 "nbformat_minor": 2
}
